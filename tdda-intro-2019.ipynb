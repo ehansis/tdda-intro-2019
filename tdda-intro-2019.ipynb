{
 "cells": [
  {
   "cell_type": "markdown",
   "metadata": {
    "slideshow": {
     "slide_type": "slide"
    }
   },
   "source": [
    "# TDDA Introduction\n",
    "\n",
    "## Test-Driven Data Analysis in Python\n",
    "\n",
    "Eberhard Hansis @ PyData Meetup Munich, 2019"
   ]
  },
  {
   "cell_type": "markdown",
   "metadata": {
    "slideshow": {
     "slide_type": "slide"
    }
   },
   "source": [
    "Many ideas presented here are borrowed from **Nicholas J. Radcliffe** of [Stochastic Solutions](http://stochasticsolutions.com/), and his colleagues. \n",
    "\n",
    "A longer introduction to the topic can be found at http://stochasticsolutions.com/pdf/tdda-tutorial-datafest-2019.pdf\n",
    "\n",
    "Thanks to Nick for providing me with input for the slides!\n",
    "\n",
    "## http://www.tdda.info"
   ]
  },
  {
   "cell_type": "markdown",
   "metadata": {
    "slideshow": {
     "slide_type": "skip"
    }
   },
   "source": [
    "Note to self: compile notebook to slides with `jupyter nbconvert tdda-intro-2019.ipynb --to slides --reveal-prefix=reveal.js`"
   ]
  },
  {
   "cell_type": "markdown",
   "metadata": {
    "slideshow": {
     "slide_type": "skip"
    }
   },
   "source": [
    "This example uses data from [Wikidata](https://www.wikidata.org).\n",
    "Wikidata contains structured data on a huge variety of topics, which are linked in a knowledge graph.\n",
    "Data is [public domain](https://creativecommons.org/publicdomain/zero/1.0), i.e. free for any type of use.\n",
    "\n",
    "Data can be queried via the [Wikidata Query Service](https://query.wikidata.org/) using\n",
    "the [SPARQL](https://en.wikipedia.org/wiki/SPARQL) query language.\n",
    "The Query Service page contains links to helpful\n",
    "[SPARQL help](https://www.wikidata.org/wiki/Wikidata:SPARQL_query_service/Wikidata_Query_Help)\n",
    "and examples.\n",
    "\n",
    "In this example we will use some data about paintings, in particular portrait paintings.\n",
    "The following query can be run in the [Wikidata Query Service](https://query.wikidata.org/).\n",
    "It searches items whose genre (P136) is any subclass (P279*) of 'portrait' (Q134307). For these, it queries the creator (P170) as Wikidata link, width (P2049) and height (P2048)\n",
    "in normalized units, and the date of inception (P571).\n",
    "Since there may be many dates of inception (e.g. an earliest and latest estimated date),\n",
    "a grouped query is executed and the minimum date selected. For the other fields,\n",
    "a random sample is selected (from the, usually, single available value).\n",
    "When writing this notbook, this returned data for 27000 paintings.\n",
    "\n",
    "```\n",
    "    SELECT ?painting ?paintingLabel\n",
    "    (SAMPLE(?creator) AS ?creator)\n",
    "    (SAMPLE(?width) AS ?width)\n",
    "    (SAMPLE(?height) AS ?height)\n",
    "    (MIN(?inception) AS ?inception)\n",
    "    WHERE {\n",
    "      ?painting (wdt:P136/wdt:P279*) wd:Q134307.\n",
    "      ?painting wdt:P170 ?creator.\n",
    "      ?painting p:P2048/psn:P2048 [wikibase:quantityAmount ?height;].\n",
    "      ?painting p:P2049/psn:P2049 [wikibase:quantityAmount ?width;].\n",
    "      ?painting wdt:P571 ?inception.\n",
    "      SERVICE wikibase:label { bd:serviceParam wikibase:language \"en\". }\n",
    "    }\n",
    "    GROUP BY ?painting ?paintingLabel\n",
    "```\n",
    "\n",
    "Note: the data files in this repository have a subset of the data only, with a few small modifications for demo purposes."
   ]
  },
  {
   "cell_type": "markdown",
   "metadata": {
    "slideshow": {
     "slide_type": "slide"
    }
   },
   "source": [
    "# Example data: portrait paintings\n",
    "\n",
    "Queried from [Wikidata](https://www.wikidata.org), see notebook for details.\n",
    "\n",
    "<img src='img/256px-Jean_Fouquet-_Portrait_of_the_Ferrara_Court_Jester_Gonella.JPG'/>"
   ]
  },
  {
   "cell_type": "code",
   "execution_count": 45,
   "metadata": {
    "slideshow": {
     "slide_type": "slide"
    }
   },
   "outputs": [],
   "source": [
    "import pandas as pd\n",
    "from tdda.constraints.pd.constraints import discover_df, verify_df, detect_df\n",
    "from IPython.display import display"
   ]
  },
  {
   "cell_type": "code",
   "execution_count": 35,
   "metadata": {
    "slideshow": {
     "slide_type": "slide"
    }
   },
   "outputs": [
    {
     "data": {
      "text/html": [
       "<div>\n",
       "<style scoped>\n",
       "    .dataframe tbody tr th:only-of-type {\n",
       "        vertical-align: middle;\n",
       "    }\n",
       "\n",
       "    .dataframe tbody tr th {\n",
       "        vertical-align: top;\n",
       "    }\n",
       "\n",
       "    .dataframe thead th {\n",
       "        text-align: right;\n",
       "    }\n",
       "</style>\n",
       "<table border=\"1\" class=\"dataframe\">\n",
       "  <thead>\n",
       "    <tr style=\"text-align: right;\">\n",
       "      <th></th>\n",
       "      <th>painting</th>\n",
       "      <th>paintingLabel</th>\n",
       "      <th>creator</th>\n",
       "      <th>width</th>\n",
       "      <th>height</th>\n",
       "      <th>inception</th>\n",
       "    </tr>\n",
       "  </thead>\n",
       "  <tbody>\n",
       "    <tr>\n",
       "      <th>0</th>\n",
       "      <td>http://www.wikidata.org/entity/Q3937425</td>\n",
       "      <td>Portrait of the court jester Gonella</td>\n",
       "      <td>http://www.wikidata.org/entity/Q311398</td>\n",
       "      <td>0.24</td>\n",
       "      <td>0.36</td>\n",
       "      <td>1447</td>\n",
       "    </tr>\n",
       "    <tr>\n",
       "      <th>1</th>\n",
       "      <td>http://www.wikidata.org/entity/Q3937429</td>\n",
       "      <td>Pietro Secco Suardo</td>\n",
       "      <td>http://www.wikidata.org/entity/Q504949</td>\n",
       "      <td>1.04</td>\n",
       "      <td>1.83</td>\n",
       "      <td>1563</td>\n",
       "    </tr>\n",
       "    <tr>\n",
       "      <th>2</th>\n",
       "      <td>http://www.wikidata.org/entity/Q3937474</td>\n",
       "      <td>Portrait of Bianca Cappello</td>\n",
       "      <td>http://www.wikidata.org/entity/Q4233718</td>\n",
       "      <td>0.52</td>\n",
       "      <td>0.75</td>\n",
       "      <td>1560</td>\n",
       "    </tr>\n",
       "  </tbody>\n",
       "</table>\n",
       "</div>"
      ],
      "text/plain": [
       "                                  painting  \\\n",
       "0  http://www.wikidata.org/entity/Q3937425   \n",
       "1  http://www.wikidata.org/entity/Q3937429   \n",
       "2  http://www.wikidata.org/entity/Q3937474   \n",
       "\n",
       "                          paintingLabel  \\\n",
       "0  Portrait of the court jester Gonella   \n",
       "1                   Pietro Secco Suardo   \n",
       "2           Portrait of Bianca Cappello   \n",
       "\n",
       "                                   creator  width  height  inception  \n",
       "0   http://www.wikidata.org/entity/Q311398   0.24    0.36       1447  \n",
       "1   http://www.wikidata.org/entity/Q504949   1.04    1.83       1563  \n",
       "2  http://www.wikidata.org/entity/Q4233718   0.52    0.75       1560  "
      ]
     },
     "metadata": {},
     "output_type": "display_data"
    },
    {
     "name": "stdout",
     "output_type": "stream",
     "text": [
      "31\n"
     ]
    }
   ],
   "source": [
    "# Load the first set of example data\n",
    "\n",
    "df = pd.read_csv('painting_data_01.csv')\n",
    "df['inception'] = pd.to_numeric(df['inception'].str[:4])\n",
    "display(df.head(3))\n",
    "print(len(df))"
   ]
  },
  {
   "cell_type": "code",
   "execution_count": 63,
   "metadata": {
    "scrolled": true,
    "slideshow": {
     "slide_type": "slide"
    }
   },
   "outputs": [
    {
     "name": "stdout",
     "output_type": "stream",
     "text": [
      "{\n",
      "    \"creation_metadata\": {\n",
      "        \"local_time\": \"2019-08-14 12:12:08\",\n",
      "        \"utc_time\": \"2019-08-14 10:10:08\",\n",
      "        \"creator\": \"TDDA 1.0.13\",\n",
      "        \"host\": \"Eberhards-MacBook-Pro.local\",\n",
      "        \"user\": \"ehansis\",\n",
      "        \"n_records\": 31,\n",
      "        \"n_selected\": 31\n",
      "    },\n",
      "    \"fields\": {\n",
      "        \"painting\": {\n",
      "            \"type\": \"string\",\n",
      "            \"min_length\": 39,\n",
      "            \"max_length\": 39,\n",
      "            \"max_nulls\": 0,\n",
      "            \"no_duplicates\": true\n",
      "        },\n",
      "        \"paintingLabel\": {\n",
      "            \"type\": \"string\",\n",
      "            \"min_length\": 17,\n",
      "            \"max_length\": 65,\n",
      "            \"max_nulls\": 0\n",
      "        },\n",
      "        \"creator\": {\n",
      "            \"type\": \"string\",\n",
      "            \"min_length\": 35,\n",
      "            \"max_length\": 39,\n",
      "            \"max_nulls\": 0,\n",
      "            \"allowed_values\": [\n",
      "                \"http://www.wikidata.org/entity/Q150679\",\n",
      "                \"http://www.wikidata.org/entity/Q290407\",\n",
      "                \"http://www.wikidata.org/entity/Q297\",\n",
      "                \"http://www.wikidata.org/entity/Q310973\",\n",
      "                \"http://www.wikidata.org/entity/Q311398\",\n",
      "                \"http://www.wikidata.org/entity/Q312617\",\n",
      "                \"http://www.wikidata.org/entity/Q4233718\",\n",
      "                \"http://www.wikidata.org/entity/Q47551\",\n",
      "                \"http://www.wikidata.org/entity/Q504949\",\n",
      "                \"http://www.wikidata.org/entity/Q5580\",\n",
      "                \"http://www.wikidata.org/entity/Q5598\",\n",
      "                \"http://www.wikidata.org/entity/Q5681\",\n",
      "                \"http://www.wikidata.org/entity/Q7803\",\n",
      "                \"http://www.wikidata.org/entity/Q8457\",\n",
      "                \"http://www.wikidata.org/entity/Q8459\",\n",
      "                \"http://www.wikidata.org/entity/Q9319\",\n",
      "                \"http://www.wikidata.org/entity/Q9348\",\n",
      "                \"http://www.wikidata.org/entity/Q9440\"\n",
      "            ]\n",
      "        },\n",
      "        \"width\": {\n",
      "            \"type\": \"real\",\n",
      "            \"min\": 0.24,\n",
      "            \"max\": 2.076,\n",
      "            \"sign\": \"positive\",\n",
      "            \"max_nulls\": 0\n",
      "        },\n",
      "        \"height\": {\n",
      "            \"type\": \"real\",\n",
      "            \"min\": 0.28,\n",
      "            \"max\": 1.83,\n",
      "            \"sign\": \"positive\",\n",
      "            \"max_nulls\": 0\n",
      "        },\n",
      "        \"inception\": {\n",
      "            \"type\": \"string\",\n",
      "            \"min_length\": 20,\n",
      "            \"max_length\": 20,\n",
      "            \"max_nulls\": 0\n",
      "        }\n",
      "    }\n",
      "}\n",
      "\n",
      "\n",
      "\n",
      "\n",
      "\n",
      "\n",
      "\n",
      "\n",
      "\n",
      "\n",
      "\n",
      "\n",
      "\n",
      "\n",
      "\n",
      "\n",
      "\n"
     ]
    }
   ],
   "source": [
    "# discover the constraints\n",
    "\n",
    "constraints = discover_df(df).to_json()\n",
    "print(constraints)\n",
    "print('\\n' * 15)  # reveal.js scroll fix..."
   ]
  },
  {
   "cell_type": "code",
   "execution_count": 36,
   "metadata": {
    "slideshow": {
     "slide_type": "slide"
    }
   },
   "outputs": [],
   "source": [
    "# save constraints to file\n",
    "\n",
    "with open('constraints_01.json', 'w') as f:\n",
    "    f.write(constraints)"
   ]
  },
  {
   "cell_type": "code",
   "execution_count": 38,
   "metadata": {
    "scrolled": false,
    "slideshow": {
     "slide_type": "slide"
    }
   },
   "outputs": [
    {
     "name": "stdout",
     "output_type": "stream",
     "text": [
      "FIELDS:\n",
      "\n",
      "painting: 0 failures  5 passes  type ✓  min_length ✓  max_length ✓  max_nulls ✓  no_duplicates ✓\n",
      "\n",
      "paintingLabel: 0 failures  4 passes  type ✓  min_length ✓  max_length ✓  max_nulls ✓\n",
      "\n",
      "creator: 0 failures  5 passes  type ✓  min_length ✓  max_length ✓  max_nulls ✓  allowed_values ✓\n",
      "\n",
      "width: 0 failures  5 passes  type ✓  min ✓  max ✓  sign ✓  max_nulls ✓\n",
      "\n",
      "height: 0 failures  5 passes  type ✓  min ✓  max ✓  sign ✓  max_nulls ✓\n",
      "\n",
      "inception: 0 failures  5 passes  type ✓  min ✓  max ✓  sign ✓  max_nulls ✓\n",
      "\n",
      "SUMMARY:\n",
      "\n",
      "Constraints passing: 29\n",
      "Constraints failing: 0\n"
     ]
    }
   ],
   "source": [
    "# test constraints on our dataset\n",
    "\n",
    "result = verify_df(df, 'constraints_01.json')\n",
    "print(str(result))"
   ]
  },
  {
   "cell_type": "code",
   "execution_count": 43,
   "metadata": {
    "scrolled": true,
    "slideshow": {
     "slide_type": "slide"
    }
   },
   "outputs": [
    {
     "data": {
      "text/html": [
       "<div>\n",
       "<style scoped>\n",
       "    .dataframe tbody tr th:only-of-type {\n",
       "        vertical-align: middle;\n",
       "    }\n",
       "\n",
       "    .dataframe tbody tr th {\n",
       "        vertical-align: top;\n",
       "    }\n",
       "\n",
       "    .dataframe thead th {\n",
       "        text-align: right;\n",
       "    }\n",
       "</style>\n",
       "<table border=\"1\" class=\"dataframe\">\n",
       "  <thead>\n",
       "    <tr style=\"text-align: right;\">\n",
       "      <th></th>\n",
       "      <th>painting</th>\n",
       "      <th>paintingLabel</th>\n",
       "      <th>creator</th>\n",
       "      <th>width</th>\n",
       "      <th>height</th>\n",
       "      <th>inception</th>\n",
       "    </tr>\n",
       "  </thead>\n",
       "  <tbody>\n",
       "    <tr>\n",
       "      <th>0</th>\n",
       "      <td>http://www.wikidata.org/entity/Q3937389</td>\n",
       "      <td>Portrait of a young man</td>\n",
       "      <td>http://www.wikidata.org/entity/Q8459</td>\n",
       "      <td>0.4600</td>\n",
       "      <td>0.5800</td>\n",
       "      <td>NaN</td>\n",
       "    </tr>\n",
       "    <tr>\n",
       "      <th>1</th>\n",
       "      <td>http://www.wikidata.org/entity/Q3794238</td>\n",
       "      <td>Q3794238</td>\n",
       "      <td>http://www.wikidata.org/entity/Q82445</td>\n",
       "      <td>0.5100</td>\n",
       "      <td>0.6100</td>\n",
       "      <td>1882.0</td>\n",
       "    </tr>\n",
       "    <tr>\n",
       "      <th>2</th>\n",
       "      <td>http://www.wikidata.org/entity/Q3937400</td>\n",
       "      <td>Portrait of a Man</td>\n",
       "      <td>http://www.wikidata.org/entity/Q312616</td>\n",
       "      <td>0.3112</td>\n",
       "      <td>0.4382</td>\n",
       "      <td>1475.0</td>\n",
       "    </tr>\n",
       "    <tr>\n",
       "      <th>3</th>\n",
       "      <td>http://www.wikidata.org/entity/Q3937399</td>\n",
       "      <td>Portrait of a Man</td>\n",
       "      <td>http://www.wikidata.org/entity/Q310973</td>\n",
       "      <td>0.9800</td>\n",
       "      <td>1.1500</td>\n",
       "      <td>1545.0</td>\n",
       "    </tr>\n",
       "    <tr>\n",
       "      <th>4</th>\n",
       "      <td>http://www.wikidata.org/entity/Q3822931</td>\n",
       "      <td>La madre profuga</td>\n",
       "      <td>http://www.wikidata.org/entity/Q3745137</td>\n",
       "      <td>0.9600</td>\n",
       "      <td>0.9100</td>\n",
       "      <td>1918.0</td>\n",
       "    </tr>\n",
       "  </tbody>\n",
       "</table>\n",
       "</div>"
      ],
      "text/plain": [
       "                                  painting            paintingLabel  \\\n",
       "0  http://www.wikidata.org/entity/Q3937389  Portrait of a young man   \n",
       "1  http://www.wikidata.org/entity/Q3794238                 Q3794238   \n",
       "2  http://www.wikidata.org/entity/Q3937400        Portrait of a Man   \n",
       "3  http://www.wikidata.org/entity/Q3937399        Portrait of a Man   \n",
       "4  http://www.wikidata.org/entity/Q3822931         La madre profuga   \n",
       "\n",
       "                                   creator   width  height  inception  \n",
       "0     http://www.wikidata.org/entity/Q8459  0.4600  0.5800        NaN  \n",
       "1    http://www.wikidata.org/entity/Q82445  0.5100  0.6100     1882.0  \n",
       "2   http://www.wikidata.org/entity/Q312616  0.3112  0.4382     1475.0  \n",
       "3   http://www.wikidata.org/entity/Q310973  0.9800  1.1500     1545.0  \n",
       "4  http://www.wikidata.org/entity/Q3745137  0.9600  0.9100     1918.0  "
      ]
     },
     "metadata": {},
     "output_type": "display_data"
    },
    {
     "name": "stdout",
     "output_type": "stream",
     "text": [
      "5\n"
     ]
    }
   ],
   "source": [
    "# Load a second set of test data\n",
    "\n",
    "df = pd.read_csv('painting_data_02.csv')\n",
    "df['inception'] = pd.to_numeric(df['inception'].str[:4])\n",
    "display(df)\n",
    "print(len(df))"
   ]
  },
  {
   "cell_type": "code",
   "execution_count": 44,
   "metadata": {
    "slideshow": {
     "slide_type": "slide"
    }
   },
   "outputs": [
    {
     "name": "stdout",
     "output_type": "stream",
     "text": [
      "FIELDS:\n",
      "\n",
      "painting: 0 failures  5 passes  type ✓  min_length ✓  max_length ✓  max_nulls ✓  no_duplicates ✓\n",
      "\n",
      "paintingLabel: 1 failure  3 passes  type ✓  min_length ✗  max_length ✓  max_nulls ✓\n",
      "\n",
      "creator: 1 failure  4 passes  type ✓  min_length ✓  max_length ✓  max_nulls ✓  allowed_values ✗\n",
      "\n",
      "width: 0 failures  5 passes  type ✓  min ✓  max ✓  sign ✓  max_nulls ✓\n",
      "\n",
      "height: 0 failures  5 passes  type ✓  min ✓  max ✓  sign ✓  max_nulls ✓\n",
      "\n",
      "inception: 2 failures  3 passes  type ✓  min ✓  max ✗  sign ✓  max_nulls ✗\n",
      "\n",
      "SUMMARY:\n",
      "\n",
      "Constraints passing: 25\n",
      "Constraints failing: 4\n"
     ]
    }
   ],
   "source": [
    "# test constraints\n",
    "\n",
    "result = verify_df(df, 'constraints_01.json')\n",
    "print(str(result))"
   ]
  },
  {
   "cell_type": "code",
   "execution_count": 51,
   "metadata": {
    "slideshow": {
     "slide_type": "slide"
    }
   },
   "outputs": [
    {
     "data": {
      "text/html": [
       "<div>\n",
       "<style scoped>\n",
       "    .dataframe tbody tr th:only-of-type {\n",
       "        vertical-align: middle;\n",
       "    }\n",
       "\n",
       "    .dataframe tbody tr th {\n",
       "        vertical-align: top;\n",
       "    }\n",
       "\n",
       "    .dataframe thead th {\n",
       "        text-align: right;\n",
       "    }\n",
       "</style>\n",
       "<table border=\"1\" class=\"dataframe\">\n",
       "  <thead>\n",
       "    <tr style=\"text-align: right;\">\n",
       "      <th></th>\n",
       "      <th>painting</th>\n",
       "      <th>paintingLabel</th>\n",
       "      <th>creator</th>\n",
       "      <th>width</th>\n",
       "      <th>height</th>\n",
       "      <th>inception</th>\n",
       "      <th>paintingLabel_min_length_ok</th>\n",
       "      <th>creator_values_ok</th>\n",
       "      <th>inception_max_ok</th>\n",
       "      <th>inception_nonnull_ok</th>\n",
       "      <th>n_failures</th>\n",
       "    </tr>\n",
       "  </thead>\n",
       "  <tbody>\n",
       "    <tr>\n",
       "      <th>0</th>\n",
       "      <td>http://www.wikidata.org/entity/Q3937389</td>\n",
       "      <td>Portrait of a young man</td>\n",
       "      <td>http://www.wikidata.org/entity/Q8459</td>\n",
       "      <td>0.4600</td>\n",
       "      <td>0.5800</td>\n",
       "      <td>NaN</td>\n",
       "      <td>True</td>\n",
       "      <td>True</td>\n",
       "      <td>NaN</td>\n",
       "      <td>False</td>\n",
       "      <td>1</td>\n",
       "    </tr>\n",
       "    <tr>\n",
       "      <th>1</th>\n",
       "      <td>http://www.wikidata.org/entity/Q3794238</td>\n",
       "      <td>Q3794238</td>\n",
       "      <td>http://www.wikidata.org/entity/Q82445</td>\n",
       "      <td>0.5100</td>\n",
       "      <td>0.6100</td>\n",
       "      <td>1882.0</td>\n",
       "      <td>False</td>\n",
       "      <td>False</td>\n",
       "      <td>False</td>\n",
       "      <td>True</td>\n",
       "      <td>3</td>\n",
       "    </tr>\n",
       "    <tr>\n",
       "      <th>2</th>\n",
       "      <td>http://www.wikidata.org/entity/Q3937400</td>\n",
       "      <td>Portrait of a Man</td>\n",
       "      <td>http://www.wikidata.org/entity/Q312616</td>\n",
       "      <td>0.3112</td>\n",
       "      <td>0.4382</td>\n",
       "      <td>1475.0</td>\n",
       "      <td>True</td>\n",
       "      <td>False</td>\n",
       "      <td>True</td>\n",
       "      <td>True</td>\n",
       "      <td>1</td>\n",
       "    </tr>\n",
       "    <tr>\n",
       "      <th>3</th>\n",
       "      <td>http://www.wikidata.org/entity/Q3822931</td>\n",
       "      <td>La madre profuga</td>\n",
       "      <td>http://www.wikidata.org/entity/Q3745137</td>\n",
       "      <td>0.9600</td>\n",
       "      <td>0.9100</td>\n",
       "      <td>1918.0</td>\n",
       "      <td>False</td>\n",
       "      <td>False</td>\n",
       "      <td>False</td>\n",
       "      <td>True</td>\n",
       "      <td>3</td>\n",
       "    </tr>\n",
       "  </tbody>\n",
       "</table>\n",
       "</div>"
      ],
      "text/plain": [
       "                                  painting            paintingLabel  \\\n",
       "0  http://www.wikidata.org/entity/Q3937389  Portrait of a young man   \n",
       "1  http://www.wikidata.org/entity/Q3794238                 Q3794238   \n",
       "2  http://www.wikidata.org/entity/Q3937400        Portrait of a Man   \n",
       "3  http://www.wikidata.org/entity/Q3822931         La madre profuga   \n",
       "\n",
       "                                   creator   width  height  inception  \\\n",
       "0     http://www.wikidata.org/entity/Q8459  0.4600  0.5800        NaN   \n",
       "1    http://www.wikidata.org/entity/Q82445  0.5100  0.6100     1882.0   \n",
       "2   http://www.wikidata.org/entity/Q312616  0.3112  0.4382     1475.0   \n",
       "3  http://www.wikidata.org/entity/Q3745137  0.9600  0.9100     1918.0   \n",
       "\n",
       "   paintingLabel_min_length_ok  creator_values_ok inception_max_ok  \\\n",
       "0                         True               True              NaN   \n",
       "1                        False              False            False   \n",
       "2                         True              False             True   \n",
       "3                        False              False            False   \n",
       "\n",
       "   inception_nonnull_ok  n_failures  \n",
       "0                 False           1  \n",
       "1                  True           3  \n",
       "2                  True           1  \n",
       "3                  True           3  "
      ]
     },
     "metadata": {},
     "output_type": "display_data"
    }
   ],
   "source": [
    "# use TDDA to show failures\n",
    "detect_df(df, 'constraints_01.json', outpath='failures_02.csv', output_fields=[], per_constraint=True)\n",
    "failures = pd.read_csv('failures_02.csv')\n",
    "display(failures)"
   ]
  },
  {
   "cell_type": "markdown",
   "metadata": {
    "slideshow": {
     "slide_type": "slide"
    }
   },
   "source": [
    "## Iterate on constraints and data\n",
    "\n",
    "### Fix data:\n",
    "* Correct one label\n",
    "* Add one inception year (or remove non-null constraint)\n",
    "\n",
    "### Fix constraints (edit JSON):\n",
    "* Allow larger max for inception date\n",
    "* Extend list of allowed creator values (or remove list of allowed values)"
   ]
  },
  {
   "cell_type": "markdown",
   "metadata": {
    "slideshow": {
     "slide_type": "slide"
    }
   },
   "source": [
    "# Advanced constraints: RegEx discovery\n",
    "\n",
    "* Fancy heuristics to discover regular expression patterns for fields\n",
    "* Off by default"
   ]
  },
  {
   "cell_type": "code",
   "execution_count": 64,
   "metadata": {
    "scrolled": true
   },
   "outputs": [
    {
     "name": "stdout",
     "output_type": "stream",
     "text": [
      "{\n",
      "    \"creation_metadata\": {\n",
      "        \"local_time\": \"2019-08-14 12:12:16\",\n",
      "        \"utc_time\": \"2019-08-14 10:10:16\",\n",
      "        \"creator\": \"TDDA 1.0.13\",\n",
      "        \"host\": \"Eberhards-MacBook-Pro.local\",\n",
      "        \"user\": \"ehansis\",\n",
      "        \"n_records\": 31,\n",
      "        \"n_selected\": 31\n",
      "    },\n",
      "    \"fields\": {\n",
      "        \"painting\": {\n",
      "            \"type\": \"string\",\n",
      "            \"min_length\": 39,\n",
      "            \"max_length\": 39,\n",
      "            \"max_nulls\": 0,\n",
      "            \"no_duplicates\": true,\n",
      "            \"rex\": [\n",
      "                \"^http\\\\:\\\\/\\\\/www\\\\.wikidata\\\\.org\\\\/entity\\\\/[A-Z]\\\\d{7}$\"\n",
      "            ]\n",
      "        }\n",
      "    }\n",
      "}\n",
      "\n",
      "\n",
      "\n",
      "\n",
      "\n",
      "\n",
      "\n",
      "\n",
      "\n",
      "\n",
      "\n",
      "\n",
      "\n",
      "\n",
      "\n",
      "\n",
      "\n"
     ]
    }
   ],
   "source": [
    "# build a constraint for the wikidata object URLs\n",
    "\n",
    "df = pd.read_csv('painting_data_01.csv')\n",
    "constraints = discover_df(df[['painting']], inc_rex=True).to_json()\n",
    "print(constraints)\n",
    "print('\\n' * 15)"
   ]
  },
  {
   "cell_type": "markdown",
   "metadata": {
    "slideshow": {
     "slide_type": "slide"
    }
   },
   "source": [
    "## RegEx discovery...\n",
    "* works really well in many cases\n",
    "* is a good start for manual tweaking in others\n",
    "\n",
    "## RegEx constraints can be very powerful!\n",
    "* avoid quotation marks in input data\n",
    "* force only numerical or non-numerical data\n",
    "* enforce minimum number of words\n",
    "* ..."
   ]
  },
  {
   "cell_type": "markdown",
   "metadata": {
    "slideshow": {
     "slide_type": "slide"
    }
   },
   "source": [
    "# How I use this\n",
    "\n",
    "* Luigi pipelines for ETL and other data processing\n",
    "* (Nearly) every **processing task** has an associated **test task**, using TDDA plus other consistency checks\n",
    "* Task requirements are always on the **test task** (downstream tasks only run if tests pass)"
   ]
  },
  {
   "cell_type": "markdown",
   "metadata": {
    "slideshow": {
     "slide_type": "slide"
    }
   },
   "source": [
    "Example pipeline, <span style='color: #735BFB'>input</span>, <span style='color: #002982'>processing/wrapper</span> and <span style='color: #2ca79e'>test</span> tasks.\n",
    "\n",
    "<img src='img/example_pipeline.png'/>"
   ]
  },
  {
   "cell_type": "markdown",
   "metadata": {
    "slideshow": {
     "slide_type": "slide"
    }
   },
   "source": [
    "# Thank You\n",
    "\n",
    "### Find this notebook at: https://github.com/ehansis/tdda-intro-2019\n",
    "\n",
    "Eberhard Hansis, Vebeto GmbH, http://www.vebeto.de\n",
    "\n",
    "eberhard.hansis@vebeto.de\n",
    "\n",
    "<img src='https://www.vebeto.de/img/vebeto_green_blue_bm.svg'/>"
   ]
  },
  {
   "cell_type": "code",
   "execution_count": null,
   "metadata": {},
   "outputs": [],
   "source": []
  }
 ],
 "metadata": {
  "celltoolbar": "Slideshow",
  "kernelspec": {
   "display_name": "Python 3",
   "language": "python",
   "name": "python3"
  },
  "language_info": {
   "codemirror_mode": {
    "name": "ipython",
    "version": 3
   },
   "file_extension": ".py",
   "mimetype": "text/x-python",
   "name": "python",
   "nbconvert_exporter": "python",
   "pygments_lexer": "ipython3",
   "version": "3.6.6"
  }
 },
 "nbformat": 4,
 "nbformat_minor": 2
}
